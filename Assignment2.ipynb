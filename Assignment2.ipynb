{
 "cells": [
  {
   "cell_type": "code",
   "execution_count": 61,
   "id": "defbbbc9-a6f0-4173-b3e0-73c08b1e877f",
   "metadata": {},
   "outputs": [],
   "source": [
    "import pandas as pd\n",
    "\n",
    "# Load the CSV file\n",
    "df = pd.read_csv('Employee.csv')"
   ]
  },
  {
   "cell_type": "code",
   "execution_count": 62,
   "id": "226d08df-9011-4b11-bdae-90236a72b91b",
   "metadata": {},
   "outputs": [
    {
     "name": "stdout",
     "output_type": "stream",
     "text": [
      "Unique values in Company: ['TCS' 'Infosys' 'CTS' nan 'Tata Consultancy Services' 'Congnizant'\n",
      " 'Infosys Pvt Lmt']\n",
      "Length of unique values in Company: 7\n",
      "Unique values in Age: [20. 30. 35. 40. 23. nan 34. 45. 18. 22. 32. 37. 50. 21. 46. 36. 26. 41.\n",
      " 24. 25. 43. 19. 38. 51. 31. 44. 33. 17.  0. 54.]\n",
      "Length of unique values in Age: 30\n",
      "Unique values in Salary: [  nan 2300. 3000. 4000. 5000. 6000. 7000. 8000. 9000. 1089. 1234. 3030.\n",
      " 3045. 3184. 4824. 5835. 7084. 8943. 8345. 9284. 9876. 2034. 7654. 2934.\n",
      " 4034. 5034. 8202. 9024. 4345. 6544. 6543. 3234. 4324. 5435. 5555. 8787.\n",
      " 3454. 5654. 5009. 5098. 3033.]\n",
      "Length of unique values in Salary: 41\n",
      "Unique values in Place: ['Chennai' 'Mumbai' 'Calcutta' 'Delhi' 'Podicherry' 'Cochin' nan 'Noida'\n",
      " 'Hyderabad' 'Bhopal' 'Nagpur' 'Pune']\n",
      "Length of unique values in Place: 12\n",
      "Unique values in Country: ['India']\n",
      "Length of unique values in Country: 1\n",
      "Unique values in Gender: [0 1]\n",
      "Length of unique values in Gender: 2\n"
     ]
    }
   ],
   "source": [
    "# Data Exploration\n",
    "# List unique values in each column and their lengths\n",
    "for column in df.columns:\n",
    "    unique_values = df[column].unique()\n",
    "    print(f\"Unique values in {column}: {unique_values}\")\n",
    "    print(f\"Length of unique values in {column}: {len(unique_values)}\")"
   ]
  },
  {
   "cell_type": "code",
   "execution_count": 63,
   "id": "aad33a54-6776-47aa-bd91-b13603150372",
   "metadata": {},
   "outputs": [
    {
     "name": "stdout",
     "output_type": "stream",
     "text": [
      "              Age       Salary      Gender\n",
      "count  130.000000   124.000000  148.000000\n",
      "mean    30.484615  5312.467742    0.222973\n",
      "std     11.096640  2573.764683    0.417654\n",
      "min      0.000000  1089.000000    0.000000\n",
      "25%     22.000000  3030.000000    0.000000\n",
      "50%     32.500000  5000.000000    0.000000\n",
      "75%     37.750000  8000.000000    0.000000\n",
      "max     54.000000  9876.000000    1.000000\n"
     ]
    }
   ],
   "source": [
    "# Perform basic statistical analysis\n",
    "print(df.describe())\n",
    "\n",
    "# Rename columns if necessary\n",
    "df.rename(columns={'Place': 'City', 'Gender': 'IsFemale'}, inplace=True)"
   ]
  },
  {
   "cell_type": "code",
   "execution_count": 65,
   "id": "e21f2f2c-5e30-46b9-acf5-d988c2cd1017",
   "metadata": {},
   "outputs": [
    {
     "name": "stdout",
     "output_type": "stream",
     "text": [
      "Company      8\n",
      "Age         24\n",
      "Salary      24\n",
      "City        14\n",
      "Country      0\n",
      "IsFemale     0\n",
      "dtype: int64\n"
     ]
    }
   ],
   "source": [
    "# Data Cleaning\n",
    "# Check for missing values\n",
    "print(df.isnull().sum())\n",
    "\n",
    "# Replace 0 in the 'Age' column with NaN\n",
    "df['Age'] = df['Age'].replace(0, pd.NA)"
   ]
  },
  {
   "cell_type": "code",
   "execution_count": 66,
   "id": "ffc8d91e-f09d-4389-b373-d89ade964655",
   "metadata": {},
   "outputs": [],
   "source": [
    "# Remove duplicate rows\n",
    "df.drop_duplicates(inplace=True)"
   ]
  },
  {
   "cell_type": "code",
   "execution_count": 67,
   "id": "bb1cedfd-cc9b-4a24-82c6-4b38f06bb682",
   "metadata": {},
   "outputs": [
    {
     "name": "stdout",
     "output_type": "stream",
     "text": [
      "Empty DataFrame\n",
      "Columns: [Company, Age, Salary, City, Country, IsFemale]\n",
      "Index: []\n"
     ]
    }
   ],
   "source": [
    "# Identify outliers using IQR\n",
    "Q1 = df['Salary'].quantile(0.25)\n",
    "Q3 = df['Salary'].quantile(0.75)\n",
    "IQR = Q3 - Q1\n",
    "\n",
    "outliers = df[(df['Salary'] < (Q1 - 1.5 * IQR)) | (df['Salary'] > (Q3 + 1.5 * IQR))]\n",
    "print(outliers)"
   ]
  },
  {
   "cell_type": "code",
   "execution_count": 68,
   "id": "a3cfad27-75ca-4f37-b33c-66c3a1dfba9a",
   "metadata": {},
   "outputs": [],
   "source": [
    "# Fill missing values in Age with median\n",
    "if 'Age' in df.columns and pd.api.types.is_numeric_dtype(df['Age']):\n",
    "    df['Age'] = df['Age'].fillna(df['Age'].median())\n",
    "\n",
    "# Fill missing values in Salary with mean\n",
    "if 'Salary' in df.columns and pd.api.types.is_numeric_dtype(df['Salary']):\n",
    "    df['Salary'] = df['Salary'].fillna(df['Salary'].mean())\n",
    "\n",
    "# Fill missing values in City with mode\n",
    "if 'City' in df.columns:\n",
    "    city_mode = df['City'].dropna().mode()\n",
    "    if not city_mode.empty:\n",
    "        df['City'] = df['City'].fillna(city_mode[0])"
   ]
  },
  {
   "cell_type": "code",
   "execution_count": 69,
   "id": "835357ad-9fd0-4586-9bb2-f3e0aa58d85b",
   "metadata": {},
   "outputs": [
    {
     "name": "stdout",
     "output_type": "stream",
     "text": [
      "     Company   Age  Salary       City Country  IsFemale\n",
      "21   Infosys  50.0  3184.0      Delhi   India         0\n",
      "32   Infosys  45.0  4034.0   Calcutta   India         0\n",
      "39   Infosys  41.0  3000.0     Mumbai   India         0\n",
      "50   Infosys  41.0  3000.0    Chennai   India         0\n",
      "57   Infosys  51.0  3184.0  Hyderabad   India         0\n",
      "68   Infosys  43.0  4034.0     Mumbai   India         0\n",
      "75   Infosys  44.0  3000.0     Cochin   India         0\n",
      "86   Infosys  41.0  3000.0      Delhi   India         0\n",
      "93   Infosys  54.0  3184.0     Mumbai   India         0\n",
      "104  Infosys  44.0  4034.0      Delhi   India         0\n",
      "122  Infosys  44.0  3234.0     Mumbai   India         0\n",
      "129  Infosys  50.0  3184.0   Calcutta   India         0\n",
      "138      CTS  44.0  3033.0     Cochin   India         0\n",
      "140  Infosys  44.0  4034.0  Hyderabad   India         0\n",
      "145  Infosys  44.0  4034.0      Delhi   India         1\n"
     ]
    }
   ],
   "source": [
    "# Data Analysis\n",
    "# Filter data with Age > 40 and Salary < 5000\n",
    "filtered_data = df[(df['Age'] > 40) & (df['Salary'] < 5000)]\n",
    "print(filtered_data)"
   ]
  },
  {
   "cell_type": "code",
   "execution_count": 70,
   "id": "3e7f01fb-c434-4146-ad42-51d91f78c710",
   "metadata": {},
   "outputs": [
    {
     "data": {
      "image/png": "[encoded data removed]",
      "text/plain": [
       "<Figure size 800x500 with 1 Axes>"
      ]
     },
     "metadata": {},
     "output_type": "display_data"
    }
   ],
   "source": [
    "import matplotlib.pyplot as plt\n",
    "\n",
    "if 'Age' in df.columns and 'Salary' in df.columns:\n",
    "    \n",
    "    df['Age'] = pd.to_numeric(df['Age'], errors='coerce')\n",
    "    df['Salary'] = pd.to_numeric(df['Salary'], errors='coerce')\n",
    "    \n",
    "    df = df.dropna(subset=['Age', 'Salary'])\n",
    "\n",
    "    # Scatter plot of Age vs Salary\n",
    "    plt.figure(figsize=(8, 5))  \n",
    "    plt.scatter(df['Age'], df['Salary'], alpha=0.6, color='blue', edgecolors='black')\n",
    "    plt.xlabel('Age')\n",
    "    plt.ylabel('Salary')\n",
    "    plt.title('Age vs Salary')\n",
    "    plt.grid(True)  \n",
    "    plt.show()\n",
    "\n",
    "else:\n",
    "    print(\"Error: 'Age' or 'Salary' column not found in DataFrame.\")\n"
   ]
  },
  {
   "cell_type": "code",
   "execution_count": 71,
   "id": "51109825-9baa-4448-82b9-1a788c80d66f",
   "metadata": {},
   "outputs": [
    {
     "data": {
      "image/png": "[encoded data removed]",
      "text/plain": [
       "<Figure size 640x480 with 1 Axes>"
      ]
     },
     "metadata": {},
     "output_type": "display_data"
    }
   ],
   "source": [
    "# Count number of people from each city\n",
    "city_counts = df['City'].value_counts()\n",
    "\n",
    "# Bar plot of city counts\n",
    "city_counts.plot(kind='bar')\n",
    "plt.xlabel('City')\n",
    "plt.ylabel('Number of People')\n",
    "plt.title('Number of People from Each City')\n",
    "plt.show()"
   ]
  },
  {
   "cell_type": "code",
   "execution_count": 72,
   "id": "f5fffcdb-a36b-4581-8bfa-823d36a66a63",
   "metadata": {},
   "outputs": [],
   "source": [
    "# Data Encoding\n",
    "# One-hot encoding for Company and City\n",
    "df = pd.get_dummies(df, columns=['Company', 'City'], drop_first=True)\n",
    "\n",
    "# Label encoding for IsFemale (assuming 1 is Female, 0 is Male)\n",
    "df['IsFemale'] = df['IsFemale'].astype(int)"
   ]
  },
  {
   "cell_type": "code",
   "execution_count": 73,
   "id": "c941e9c8-525e-4c95-96b4-9e60164e5b2b",
   "metadata": {},
   "outputs": [],
   "source": [
    "# Feature Scaling\n",
    "from sklearn.preprocessing import StandardScaler\n",
    "\n",
    "# Initialize the StandardScaler\n",
    "scaler = StandardScaler()\n",
    "\n",
    "# Scale the features\n",
    "df[['Age', 'Salary']] = scaler.fit_transform(df[['Age', 'Salary']])"
   ]
  },
  {
   "cell_type": "code",
   "execution_count": 74,
   "id": "79585e64-b9c6-4d2b-a558-ea8f5f9a53b8",
   "metadata": {},
   "outputs": [],
   "source": [
    "from sklearn.preprocessing import MinMaxScaler\n",
    "\n",
    "# Initialize the MinMaxScaler\n",
    "min_max_scaler = MinMaxScaler()\n",
    "\n",
    "# Scale the features\n",
    "df[['Age', 'Salary']] = min_max_scaler.fit_transform(df[['Age', 'Salary']])"
   ]
  },
  {
   "cell_type": "code",
   "execution_count": 75,
   "id": "b7ed93c8-744d-4a6f-821d-33346734b918",
   "metadata": {},
   "outputs": [
    {
     "name": "stdout",
     "output_type": "stream",
     "text": [
      "        Age    Salary Country  IsFemale  Company_Congnizant  Company_Infosys  \\\n",
      "0  0.081081  0.477350   India         0               False            False   \n",
      "1  0.351351  0.477350   India         0               False             True   \n",
      "2  0.486486  0.137817   India         0               False            False   \n",
      "3  0.621622  0.217480   India         0               False             True   \n",
      "4  0.162162  0.331285   India         0               False            False   \n",
      "\n",
      "   Company_Infosys Pvt Lmt  Company_TCS  Company_Tata Consultancy Services  \\\n",
      "0                    False         True                              False   \n",
      "1                    False        False                              False   \n",
      "2                    False         True                              False   \n",
      "3                    False        False                              False   \n",
      "4                    False         True                              False   \n",
      "\n",
      "   City_Calcutta  City_Chennai  City_Cochin  City_Delhi  City_Hyderabad  \\\n",
      "0          False          True        False       False           False   \n",
      "1          False         False        False       False           False   \n",
      "2           True         False        False       False           False   \n",
      "3          False         False        False        True           False   \n",
      "4          False         False        False       False           False   \n",
      "\n",
      "   City_Mumbai  City_Nagpur  City_Noida  City_Podicherry  City_Pune  \n",
      "0        False        False       False            False      False  \n",
      "1         True        False       False            False      False  \n",
      "2        False        False       False            False      False  \n",
      "3        False        False       False            False      False  \n",
      "4         True        False       False            False      False  \n"
     ]
    }
   ],
   "source": [
    "# Display the final cleaned and preprocessed data\n",
    "print(df.head())"
   ]
  },
  {
   "cell_type": "code",
   "execution_count": null,
   "id": "73291207-3e81-434d-b58e-fe78d672aafa",
   "metadata": {},
   "outputs": [],
   "source": []
  },
  {
   "cell_type": "code",
   "execution_count": null,
   "id": "3d879021-c5d0-4a47-a7bc-2e7b72f19416",
   "metadata": {},
   "outputs": [],
   "source": []
  },
  {
   "cell_type": "code",
   "execution_count": null,
   "id": "ac4db1ca-e746-41c9-a766-4580edcb4ea4",
   "metadata": {},
   "outputs": [],
   "source": []
  },
  {
   "cell_type": "code",
   "execution_count": null,
   "id": "1916ab97-1b39-4cc0-8cf8-7934d9c77512",
   "metadata": {},
   "outputs": [],
   "source": []
  }
 ],
 "metadata": {
  "kernelspec": {
   "display_name": "Python 3 (ipykernel)",
   "language": "python",
   "name": "python3"
  },
  "language_info": {
   "codemirror_mode": {
    "name": "ipython",
    "version": 3
   },
   "file_extension": ".py",
   "mimetype": "text/x-python",
   "name": "python",
   "nbconvert_exporter": "python",
   "pygments_lexer": "ipython3",
   "version": "3.12.7"
  }
 },
 "nbformat": 4,
 "nbformat_minor": 5
}
